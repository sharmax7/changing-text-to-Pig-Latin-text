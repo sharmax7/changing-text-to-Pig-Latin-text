{
 "cells": [
  {
   "cell_type": "code",
   "execution_count": 2,
   "metadata": {},
   "outputs": [
    {
     "data": {
      "text/plain": [
       "['hetay', 2, 'uickqay', 'rownbay', 'oxesfay']"
      ]
     },
     "execution_count": 2,
     "metadata": {},
     "output_type": "execute_result"
    }
   ],
   "source": [
    "\"\"\"\"Question: Pig Latin\n",
    "You are given a piece of English text on a single line. Write a program that translates\n",
    "the text to Pig Latin. English is translated to Pig Latin by taking the first letter of\n",
    "every word, moving it to the end of the word, and adding “ay.”\n",
    "Assumptions\n",
    "1. All letters are lowercase\n",
    "2. Each word is separated by a single space\n",
    "3. Numbers remain unchanged\n",
    "4. There are no punctuation marks to worry about\n",
    "Example\n",
    "Input:\n",
    "“the 2 quick brown foxes”\n",
    "Output:\n",
    "“hetay 2 uickqay rownbay oxesfay”\n",
    "\"\"\"\n",
    "\n",
    "input = 'the 2 quick brown foxes'\n",
    "#splitting the strings to form a word list\n",
    "splitted=input.split(\" \")\n",
    "#changing str 2 in to int 2\n",
    "splitted[1]=int(splitted[1])\n",
    "#creating a empty list where all the Pig Latin will be appended\n",
    "output = []\n",
    "#using for loop to append letters and numers seperately\n",
    "for items in splitted:\n",
    "    if items not in range(0,10):\n",
    "        pig_latin=items[1:]+items[0]+'ay'\n",
    "        output.append(pig_latin)\n",
    "    else:\n",
    "        output.append(items)\n",
    "             \n",
    "output   "
   ]
  }
 ],
 "metadata": {
  "kernelspec": {
   "display_name": "Python 3",
   "language": "python",
   "name": "python3"
  }
 },
 "nbformat": 4,
 "nbformat_minor": 4
}
